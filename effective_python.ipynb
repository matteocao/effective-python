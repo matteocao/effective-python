{
 "cells": [
  {
   "cell_type": "markdown",
   "metadata": {},
   "source": [
    "# Effective Python\n",
    "\n",
    "This notebook contains the best practices taken from the homonimous book.\n",
    "\n",
    "Only some chapters are considered here, purely based on the author's ignorance."
   ]
  },
  {
   "cell_type": "code",
   "execution_count": 1,
   "metadata": {},
   "outputs": [
    {
     "name": "stdout",
     "output_type": "stream",
     "text": [
      "3.9.7 (default, Sep 16 2021, 08:50:36) \n",
      "[Clang 10.0.0 ]\n"
     ]
    }
   ],
   "source": [
    "import sys\n",
    "print(sys.version)"
   ]
  },
  {
   "cell_type": "markdown",
   "metadata": {},
   "source": [
    "## It's good to unpack multiple varibles \n",
    "...rather than indexing.\n",
    "\n",
    "Use **f-strings** to display the output.\n"
   ]
  },
  {
   "cell_type": "code",
   "execution_count": 2,
   "metadata": {},
   "outputs": [
    {
     "name": "stdout",
     "output_type": "stream",
     "text": [
      "0.000, 1 and [2, 3, 4, 5, 6, 7, 8, 9]\n"
     ]
    }
   ],
   "source": [
    "def out(i):\n",
    "    assert i > 0\n",
    "    return list(range(i))\n",
    "\n",
    "first, second, *others = out(10)\n",
    "print(f\"{first:0.3f}, {second} and {others}\")"
   ]
  },
  {
   "cell_type": "markdown",
   "metadata": {},
   "source": [
    "## The following evaluate to `False`\n",
    "\n",
    "Recall these niceties about empty strings, empty lists and `0`:"
   ]
  },
  {
   "cell_type": "code",
   "execution_count": 3,
   "metadata": {},
   "outputs": [
    {
     "name": "stdout",
     "output_type": "stream",
     "text": [
      "Got it?\n"
     ]
    }
   ],
   "source": [
    "if []:\n",
    "    print(\"Not printing\")\n",
    "elif \"\":\n",
    "    print(\"Not printing\")\n",
    "elif 0:\n",
    "    print(\"Not printing\")\n",
    "else:\n",
    "    print(\"Got it?\")"
   ]
  },
  {
   "cell_type": "markdown",
   "metadata": {},
   "source": [
    "## RAM manipulations\n",
    "\n",
    "Direct manipulation of the memory cells."
   ]
  },
  {
   "cell_type": "code",
   "execution_count": 4,
   "metadata": {},
   "outputs": [
    {
     "name": "stdout",
     "output_type": "stream",
     "text": [
      "Only bytes can be manipulated in memory, not strings\n"
     ]
    },
    {
     "data": {
      "text/plain": [
       "<memory at 0x7f7a46a49a00>"
      ]
     },
     "execution_count": 4,
     "metadata": {},
     "output_type": "execute_result"
    }
   ],
   "source": [
    "a = b'123456'  # byte expression\n",
    "aa = \"sdojfbh\"  # string expression\n",
    "mv = memoryview(a)\n",
    "try:\n",
    "    memoryview(aa)\n",
    "except TypeError:\n",
    "    print(\"Only bytes can be manipulated in memory, not strings\")\n",
    "mv"
   ]
  },
  {
   "cell_type": "code",
   "execution_count": 5,
   "metadata": {},
   "outputs": [
    {
     "data": {
      "text/plain": [
       "b'345'"
      ]
     },
     "execution_count": 5,
     "metadata": {},
     "output_type": "execute_result"
    }
   ],
   "source": [
    "mv[2:5].tobytes()  # selecting a subsection of the RAM\n"
   ]
  },
  {
   "cell_type": "markdown",
   "metadata": {},
   "source": [
    "## Use ternary expression to simplify your code"
   ]
  },
  {
   "cell_type": "code",
   "execution_count": 6,
   "metadata": {},
   "outputs": [
    {
     "name": "stdout",
     "output_type": "stream",
     "text": [
      "False\n"
     ]
    }
   ],
   "source": [
    "def true_or_false(input):\n",
    "    \"\"\"This function will print what the\n",
    "    input will evaluate to.\"\"\"\n",
    "    b = \"True\" if input else \"False\"\n",
    "    print(b)\n",
    "    \n",
    "true_or_false([])"
   ]
  },
  {
   "cell_type": "markdown",
   "metadata": {},
   "source": [
    "## Striding \n",
    "...and revertng lists."
   ]
  },
  {
   "cell_type": "code",
   "execution_count": 7,
   "metadata": {},
   "outputs": [
    {
     "name": "stdout",
     "output_type": "stream",
     "text": [
      "Full list: [0, 1, 2, 3, 4, 5, 6, 7, 8, 9, 10, 11, 12, 13, 14, 15, 16], \n",
      "Strided list: [1, 4, 7]\n"
     ]
    },
    {
     "data": {
      "text/plain": [
       "[16, 15, 14, 13, 12, 11, 10, 9, 8, 7, 6, 5, 4, 3, 2, 1, 0]"
      ]
     },
     "execution_count": 7,
     "metadata": {},
     "output_type": "execute_result"
    }
   ],
   "source": [
    "## Striding\n",
    "start = 1\n",
    "end = 10\n",
    "step = 3\n",
    "\n",
    "test = list(range(end + 7))\n",
    "\n",
    "print(f\"Full list: {test}, \\nStrided list: {test[start:end:step]}\")\n",
    "\n",
    "# A nice trick to reverse the list:\n",
    "test[::-1]"
   ]
  },
  {
   "cell_type": "markdown",
   "metadata": {},
   "source": [
    "## Sorting objects with lambda functions\n",
    "\n",
    "Check out the abstract class and how the lambda is used for sorting (and also notice the use of `__repr__`)."
   ]
  },
  {
   "cell_type": "code",
   "execution_count": 8,
   "metadata": {},
   "outputs": [
    {
     "name": "stdout",
     "output_type": "stream",
     "text": [
      "The sorting is not a priori defined!\n",
      "Sort by name: [(a, 1), (bbb, 3), (c, 2)]\n",
      "Sort by name: [(a, 1), (c, 2), (bbb, 3)]\n"
     ]
    }
   ],
   "source": [
    "class Obj():\n",
    "    \"\"\"An object\n",
    "\n",
    "    Args:\n",
    "        name (str):\n",
    "            the name of the Obj\n",
    "        height (float):\n",
    "            the heght of the Obj\n",
    "    \"\"\"\n",
    "    def __init__(self, name, height):\n",
    "        self.name = name\n",
    "        self.height = height\n",
    "        \n",
    "    def __repr__(self):\n",
    "        \"\"\"This method is used by the print function.\n",
    "        It needs to return a string\"\"\"\n",
    "        return f\"({self.name}, {self.height})\"\n",
    "\n",
    "    def method(self):\n",
    "        \"\"\"whatever, not needed\"\"\"\n",
    "        pass\n",
    "\n",
    "\n",
    "ob1, ob2, ob3 = Obj(\"a\", 1), Obj(\"bbb\", 3), Obj(\"c\", 2)\n",
    "\n",
    "list_of_obj = [ob1, ob2, ob3]\n",
    "try:\n",
    "    list_of_obj.sort()\n",
    "except TypeError:\n",
    "    print(\"The sorting is not a priori defined!\")\n",
    "\n",
    "list_of_obj.sort(key=lambda x:x.name)  # we are telling to sort by the name\n",
    "print(f\"Sort by name: {list_of_obj}\")\n",
    "\n",
    "list_of_obj.sort(key=lambda x:x.height)  # we are telling to sort by the height\n",
    "print(f\"Sort by name: {list_of_obj}\")"
   ]
  },
  {
   "cell_type": "markdown",
   "metadata": {},
   "source": [
    "## Add `__missing__` to handle missing keys in `dict`"
   ]
  },
  {
   "cell_type": "code",
   "execution_count": 9,
   "metadata": {},
   "outputs": [
    {
     "data": {
      "text/plain": [
       "{'key1': 5, 'key2': 0.0}"
      ]
     },
     "execution_count": 9,
     "metadata": {},
     "output_type": "execute_result"
    }
   ],
   "source": [
    "class NewDict(dict):\n",
    "    def __missing__(self, key):\n",
    "        \"\"\"This special method is called when the key\n",
    "        is not defined yet.\"\"\"\n",
    "        self[key] = 0.0\n",
    "\n",
    "d = NewDict()\n",
    "d[\"key1\"] = 5\n",
    "d[\"key2\"]  # this is not defined, hence filled in with `0.0`\n",
    "d"
   ]
  },
  {
   "cell_type": "markdown",
   "metadata": {},
   "source": [
    "## Use of coroutines to parallelise\n",
    "\n",
    "These are functions that are run asyn and stop when the await step is reached."
   ]
  },
  {
   "cell_type": "code",
   "execution_count": 10,
   "metadata": {},
   "outputs": [
    {
     "name": "stdout",
     "output_type": "stream",
     "text": [
      "Jupyter notebook is already running as a coroutine, hence it is ot possible to run another one on the same thread\n"
     ]
    }
   ],
   "source": [
    "try:\n",
    "    import asyncio\n",
    "\n",
    "    obj = []\n",
    "\n",
    "    async def func(i):  # this is a coroutine\n",
    "        print(f'I am doing something {i}')\n",
    "        obj.append(i)\n",
    "\n",
    "    async def manager():  # this is a coroutine\n",
    "        tasks = []\n",
    "        for i in range(10):\n",
    "            task = func(i)  # Fan out\n",
    "            tasks.append(task)\n",
    "        await asyncio.gather(*tasks)  # Fan in\n",
    "        return obj\n",
    "\n",
    "    loop = asyncio.new_event_loop()\n",
    "    asyncio.set_event_loop(loop)\n",
    "    task = loop.create_task(manager())\n",
    "    new_obj = loop.run_until_complete(task)\n",
    "    print(new_obj)\n",
    "except RuntimeError:\n",
    "    print(\"Jupyter notebook is already running as a coroutine, hence it is ot possible to run another one on the same thread\")"
   ]
  },
  {
   "cell_type": "markdown",
   "metadata": {},
   "source": [
    "## Closure\n",
    "\n",
    "Variables inside the scope of a function are not modified for outer scopes."
   ]
  },
  {
   "cell_type": "code",
   "execution_count": 11,
   "metadata": {},
   "outputs": [
    {
     "name": "stdout",
     "output_type": "stream",
     "text": [
      "original var: 1\n",
      "output of function: 3\n"
     ]
    }
   ],
   "source": [
    "\n",
    "def outer_scope():\n",
    "    var = 1\n",
    "    def test_fun(input):\n",
    "        var = 2\n",
    "        return input + var\n",
    "    print(f\"original var: {var}\\noutput of function: {test_fun(1)}\")\n",
    "outer_scope()"
   ]
  },
  {
   "cell_type": "markdown",
   "metadata": {},
   "source": [
    "## Impose keywords arguments\n",
    "\n",
    "For those arguments that are really required to by keyword based, you can enforce it."
   ]
  },
  {
   "cell_type": "code",
   "execution_count": 12,
   "metadata": {},
   "outputs": [
    {
     "name": "stdout",
     "output_type": "stream",
     "text": [
      "Here!\n"
     ]
    }
   ],
   "source": [
    "def fun(a, b=None, c=True, d=False):\n",
    "    return a, b, c, d\n",
    "\n",
    "def fun2(a, b=None, *, c=True, d=False):\n",
    "    return a, b, c, d\n",
    "\n",
    "fun(1,2,3,4)\n",
    "try:\n",
    "    fun2(1,2,3,4)\n",
    "    print(\"Not here!\")\n",
    "except TypeError:\n",
    "    fun2(1,2,c=3,d=4)\n",
    "    print(\"Here!\")"
   ]
  },
  {
   "cell_type": "markdown",
   "metadata": {},
   "source": [
    "## Decorator for debugging\n",
    "\n",
    "Use `functools.wraps` to make sure that you can have the proper `__name__`"
   ]
  },
  {
   "cell_type": "code",
   "execution_count": 13,
   "metadata": {},
   "outputs": [
    {
     "name": "stdout",
     "output_type": "stream",
     "text": [
      "function((-1,), {}) -> 0\n",
      "function((0,), {}) -> 3\n",
      "function((1,), {}) -> 6\n",
      "function((2,), {}) -> 9\n",
      "function((3,), {}) -> 12\n",
      "function((4,), {}) -> 15\n",
      "function((5,), {}) -> 18\n",
      "function((6,), {}) -> 21\n",
      "function((7,), {}) -> 24\n",
      "function((8,), {}) -> 27\n",
      "function((9,), {}) -> 30\n",
      "function((10,), {}) -> 33\n"
     ]
    },
    {
     "data": {
      "text/plain": [
       "33"
      ]
     },
     "execution_count": 13,
     "metadata": {},
     "output_type": "execute_result"
    }
   ],
   "source": [
    "from functools import wraps\n",
    "\n",
    "def trace(func):\n",
    "    @wraps(func)  # to keep the __name__ as func.__name__ and not \"wrapper\"\n",
    "    def wrapper(*args, **kwargs):\n",
    "        result = func(*args, **kwargs)\n",
    "        print(f'{func.__name__}({args!r}, {kwargs!r}) '\n",
    "              f'-> {result!r}')\n",
    "        return result\n",
    "    return wrapper\n",
    "\n",
    "@trace\n",
    "def function(a):\n",
    "    if a < 0:\n",
    "        return 0\n",
    "    return function(a-1) + 3\n",
    "\n",
    "\n",
    "function(10)"
   ]
  },
  {
   "cell_type": "code",
   "execution_count": 14,
   "metadata": {},
   "outputs": [
    {
     "name": "stdout",
     "output_type": "stream",
     "text": [
      "Help on function function in module __main__:\n",
      "\n",
      "function(a)\n",
      "\n"
     ]
    }
   ],
   "source": [
    "help(function)  # notice that now the name is function and not wrapper"
   ]
  },
  {
   "cell_type": "markdown",
   "metadata": {},
   "source": [
    "## Iterators\n",
    "\n",
    "Use them instead of storing the results in a list to spare memory!\n",
    "\n",
    "Use the `__iter__` method to define the way to iterate over your data.\n",
    "\n",
    "Use **generator expressions** to be lighter on memory!\n",
    "\n",
    "Compose generators with `yield from`.\n",
    "\n",
    "Use `itertools` functions, as they are very effective on iterators."
   ]
  },
  {
   "cell_type": "code",
   "execution_count": 15,
   "metadata": {},
   "outputs": [
    {
     "name": "stdout",
     "output_type": "stream",
     "text": [
      "0\n",
      "4\n",
      "8\n",
      "12\n",
      "We exhausted the iterator on the first call\n",
      "<generator object <genexpr> at 0x7f7a46ab8ba0>\n",
      "received:  10\n",
      "received:  None\n",
      "received:  None\n",
      "First iteration: 0, sending value: 1, further iteration: 2, further iteration: 3\n",
      "[(1, 1), (1, 2), (1, 3), (1, 4), (2, 2), (2, 3), (2, 4), (3, 3), (3, 4), (4, 4)]\n"
     ]
    }
   ],
   "source": [
    "from collections.abc import Iterator\n",
    "\n",
    "class IterableFoo:\n",
    "    \"\"\"Minimal iterable class.\n",
    "    \n",
    "    Args:\n",
    "        lista (iterator):\n",
    "            the list of inputs\n",
    "    \"\"\"\n",
    "    def __init__(self, lista):\n",
    "        self.lista = lista\n",
    "\n",
    "    def __iter__(self):  # this is what is called when doing for x in X:\n",
    "        for item in self.lista:\n",
    "            yield item*4\n",
    "\n",
    "\n",
    "my_list = IterableFoo([0, 1, 2, 3])\n",
    "for i in my_list:\n",
    "    print(i)\n",
    "\n",
    "# define a generator\n",
    "def generator(a):\n",
    "    try:\n",
    "        for item in a:\n",
    "            yield a+3\n",
    "    except TypeError:\n",
    "        yield 0\n",
    "\n",
    "# build the generator instance\n",
    "it = generator([1, 2, 3])\n",
    "\n",
    "# check whether it is an iterator\n",
    "assert isinstance(it, Iterator)\n",
    "\n",
    "not_it = generator(1)\n",
    "next(not_it)\n",
    "try: \n",
    "    next(not_it)\n",
    "except StopIteration:\n",
    "    print(\"We exhausted the iterator on the first call\")\n",
    "    \n",
    "# generator expression: a.k.a. comprehension for generators\n",
    "gen = (i**2 for i in range(1000000000))\n",
    "print(gen)\n",
    "\n",
    "# to compose two generators:\n",
    "def my_generator():\n",
    "    yield 1\n",
    "    yield 2\n",
    "    yield 3\n",
    "\n",
    "# this gets data from the child() generator\n",
    "def fast():\n",
    "    yield from my_generator()\n",
    "    \n",
    "fast()\n",
    "\n",
    "# P.S. do NOT use send, as it is complicated\n",
    "def child2():\n",
    "    for i in range(1_000_000):\n",
    "        ii = yield i\n",
    "        print(\"received: \", ii)\n",
    "        \n",
    "it = iter(child2())\n",
    "print(f\"First iteration: {next(it)}, sending\"\n",
    "      f\" value: {it.send(10)}, further \"\n",
    "      f\"iteration: {next(it)}, further iteration: {next(it)}\")\n",
    "\n",
    "# use itertools functions, as they are very effective\n",
    "from itertools import combinations_with_replacement\n",
    "it = combinations_with_replacement([1, 2, 3, 4], 2)\n",
    "print(list(it))"
   ]
  },
  {
   "cell_type": "markdown",
   "metadata": {},
   "source": [
    "## Use hooks to treat corner cases\n",
    "\n",
    "Hooks are functions passed to the object that can deal with corner cases. Pass hooks to deal with them."
   ]
  },
  {
   "cell_type": "code",
   "execution_count": 16,
   "metadata": {},
   "outputs": [
    {
     "name": "stdout",
     "output_type": "stream",
     "text": [
      "defaultdict(<function missing_key at 0x7f7a46ae2b80>, {'key1': 100})\n"
     ]
    }
   ],
   "source": [
    "# defaultdict allow for hooks to treat missing keys\n",
    "from collections import defaultdict\n",
    "\n",
    "# define the hook to handle missing keys\n",
    "def missing_key():\n",
    "    \"\"\"returns 0 as value for a missing key\"\"\"\n",
    "    return 100\n",
    "\n",
    "d = defaultdict(missing_key)  # empty dictionary, with the policy for missing keys\n",
    "\n",
    "d[\"key1\"]\n",
    "print(d)"
   ]
  },
  {
   "cell_type": "markdown",
   "metadata": {},
   "source": [
    "# Use of `@classmethod`, `super()` and mix-in classes"
   ]
  },
  {
   "cell_type": "code",
   "execution_count": 17,
   "metadata": {},
   "outputs": [
    {
     "name": "stdout",
     "output_type": "stream",
     "text": [
      "The Child class inherits from the Parent\n",
      " class the attribute `value` and it is 10.\n",
      " The methods from the mixin class are also\n",
      "available : 1,\n",
      " and <__main__.Child object at 0x7f7a46adbc10>\n",
      "Cannot access private attributes\n"
     ]
    }
   ],
   "source": [
    "class Mixin:\n",
    "    \"\"\"The Mixin class does not need any\n",
    "    __init__ constructor, as it will not\n",
    "    have any instance per se but will be \n",
    "    used by other class to inherit the methods.\n",
    "    \"\"\"\n",
    "    def method1(self):\n",
    "        yield 1\n",
    "        yield 2\n",
    "\n",
    "    \n",
    "class Parent(Mixin):  # inherit from Mixin class\n",
    "    def __init__(self, value):\n",
    "        self.value = value\n",
    "        self.__secret_value = value + 1  # private, cannot access\n",
    "\n",
    "    @classmethod  # this method is bound to the class and not to self\n",
    "    def method2(cls, value):  # call it withput cls, as that is automatic!\n",
    "        return cls(value)  # initialise ann instance\n",
    "        \n",
    "class Child(Parent):\n",
    "    def __init__(self, value):\n",
    "        super().__init__(value)  # initialise the parent class\n",
    "\n",
    "# initialise the child class\n",
    "child = Child(10)\n",
    "\n",
    "# results\n",
    "print(f\"The Child class inherits from the Parent\\n class the attribute `value` \"\n",
    "      f\"and it is {child.value}.\\n The methods from the mixin class are also\\n\"\n",
    "      f\"available : {next(child.method1())},\\n and {child.method2(1)}\")\n",
    "\n",
    "# P.S. Try to AVOID provate attributes\n",
    "try:\n",
    "    child.__secret_value\n",
    "except AttributeError:\n",
    "    print(\"Cannot access private attributes\")"
   ]
  },
  {
   "cell_type": "markdown",
   "metadata": {},
   "source": [
    "## A custom class that looks like a list\n",
    "\n",
    "Use the containers of `collections.abc` to help you write all the functions."
   ]
  },
  {
   "cell_type": "code",
   "execution_count": 18,
   "metadata": {},
   "outputs": [
    {
     "name": "stdout",
     "output_type": "stream",
     "text": [
      "Item in position 1: 2, Length: 4\n",
      "1\n",
      "2\n",
      "3\n",
      "4\n"
     ]
    }
   ],
   "source": [
    "from collections.abc import Sequence  # contains all the standard methods of lists, e.g. __iter__\n",
    "\n",
    "class MyList(Sequence):\n",
    "    def __init__(self, *args):\n",
    "        self.args = args\n",
    "    \n",
    "    def __getitem__(self, i):\n",
    "        return self.args[i]\n",
    "    \n",
    "    def __len__(self):\n",
    "        return len(self.args)\n",
    "    \n",
    "lst = MyList(1,2,3,4)\n",
    "print(f\"Item in position 1: {lst[1]}, Length: {len(lst)}\")\n",
    "\n",
    "for i in lst:\n",
    "    print(i)"
   ]
  },
  {
   "cell_type": "markdown",
   "metadata": {},
   "source": [
    "## The use of `@property` or descriptors\n",
    "\n",
    "The idea is to directly access the attributes, but to add a logic when modifying them. Also, **the syntax is exactly the same one of an attribute**!!\n",
    "\n",
    "It is more general to use the `__set__` and `__get__` descriptors."
   ]
  },
  {
   "cell_type": "code",
   "execution_count": 19,
   "metadata": {},
   "outputs": [
    {
     "name": "stdout",
     "output_type": "stream",
     "text": [
      "in the setter...\n",
      "in the getter...\n",
      "1\n",
      "in the setter...\n",
      "in the getter...\n",
      "2\n",
      "in the setter...\n",
      "...as expected!\n"
     ]
    }
   ],
   "source": [
    "class Test:\n",
    "    def __init__(self, value):\n",
    "        self.value = value\n",
    "    \n",
    "    @property # this is the getter method\n",
    "    def value(self):\n",
    "        print(\"in the getter...\")\n",
    "        return self._value  # notice the underscore!\n",
    "    \n",
    "    @value.setter  # this is the setter method\n",
    "    def value(self, new_value):\n",
    "        print(\"in the setter...\")\n",
    "        if new_value > 0:\n",
    "            self._value = new_value  # notice the underscore!\n",
    "        else:\n",
    "            raise ValueError(\"Need positive value\")\n",
    "            \n",
    "tst = Test(1)  # here we set the value in te __init__, hence I expect to use the setter\n",
    "print(tst.value)  # we read te value\n",
    "tst.value = 2  # we set the value\n",
    "print(tst.value)  # we read the value\n",
    "try:\n",
    "    tst.value = -2  # we try to set a negative value\n",
    "except ValueError:\n",
    "    print(\"...as expected!\")"
   ]
  },
  {
   "cell_type": "code",
   "execution_count": 20,
   "metadata": {},
   "outputs": [
    {
     "name": "stdout",
     "output_type": "stream",
     "text": [
      "in the setter...\n",
      "in the getter...\n",
      "2\n",
      "in the setter...\n",
      "...as expected!\n"
     ]
    }
   ],
   "source": [
    "class Test2:\n",
    "    def __init__(self):\n",
    "        pass\n",
    "    \n",
    "    def __get__(self, instance, instance_type):\n",
    "        print(\"in the getter...\")\n",
    "        return self.value\n",
    "\n",
    "    def __set__(self, instance, new_value):\n",
    "        print(\"in the setter...\")\n",
    "        if new_value > 0:\n",
    "            self.value = new_value\n",
    "        else:\n",
    "            raise ValueError(\"Need positive value\")\n",
    "\n",
    "class Outer():\n",
    "    grade = Test2()\n",
    "        \n",
    "tst2 = Outer()  # here we set the value in te __init__, hence I expect to use the setter\n",
    "tst2.grade = 2  # we set the value\n",
    "print(tst2.grade)  # we read the value\n",
    "try:\n",
    "    tst2.grade = -2  # we try to set a negative value\n",
    "except ValueError:\n",
    "    print(\"...as expected!\")"
   ]
  },
  {
   "cell_type": "markdown",
   "metadata": {},
   "source": [
    "## Dynamic creation of class attributes with `__getattribute__`\n",
    "\n",
    "Watch out for recursions! Evey time that you access an attribute inside the `__getattribute__` you will call `__getattribute__`! Hence, do not forget to user `super()` to actually get the attribute of the instance.\n",
    "\n",
    "Recall that within a class instance `counter`, the following operation:\n",
    "\n",
    "```\n",
    "counter = Counter()  # initialise\n",
    "counter.count += 1\n",
    "```\n",
    "is equivalent to this:\n",
    "```\n",
    "value = getattr(counter, 'count')\n",
    "result = value + 1\n",
    "setattr(counter, 'count', result)\n",
    "```"
   ]
  },
  {
   "cell_type": "code",
   "execution_count": 21,
   "metadata": {},
   "outputs": [
    {
     "name": "stdout",
     "output_type": "stream",
     "text": [
      "setting attributes...\n",
      "* Found '__dict__', returning {'exists': 5}\n",
      "{'exists': 5}\n",
      "setting attributes...\n",
      "* Found '__dict__', returning {'exists': 5, 'foo': 'Value for foo'}\n",
      "{'exists': 5, 'foo': 'Value for foo'}\n",
      "* Found 'foo', returning 'Value for foo'\n",
      "* Found '__dict__', returning {'exists': 5, 'foo': 'Value for foo'}\n",
      "{'exists': 5, 'foo': 'Value for foo'}\n"
     ]
    }
   ],
   "source": [
    "class LazyRecord:\n",
    "    def __init__(self):\n",
    "        self.exists = 5\n",
    "    \n",
    "    def __getattribute__(self, name):  # called every time an attribute is accessed\n",
    "        try:\n",
    "            value = super().__getattribute__(name)  # check if the attribute exists and avoid infinite recurson\n",
    "            print(f'* Found {name!r}, returning {value!r}')\n",
    "            return value\n",
    "        except AttributeError:\n",
    "            value = f'Value for {name}'\n",
    "            setattr(self, name, value)  # setting the attribute name and value\n",
    "            return value\n",
    "        \n",
    "    def __setattr__(self, name, value):  # called every time an attribute is set\n",
    "        print(\"setting attributes...\")\n",
    "        super().__setattr__(name, value)\n",
    "    \n",
    "ll = LazyRecord()\n",
    "\n",
    "print(ll.__dict__)\n",
    "ll.foo  # creating a new attribute!\n",
    "print(ll.__dict__)\n",
    "ll.foo  # creating a new attribute!\n",
    "print(ll.__dict__)\n"
   ]
  },
  {
   "cell_type": "markdown",
   "metadata": {},
   "source": [
    "## Validate all subclasses using `__init_subclass__`\n",
    "\n",
    "Basically, in the parent class, you prepare a method that is fired every time a new class is declared (not instantiated, created!).\n",
    "\n",
    "You can also call the method `__set_name__` to initialise Parent's class attributes when a class is created."
   ]
  },
  {
   "cell_type": "code",
   "execution_count": 22,
   "metadata": {},
   "outputs": [
    {
     "name": "stdout",
     "output_type": "stream",
     "text": [
      "checking...\n",
      "<class '__main__.ChildOK'>\n",
      "Inside __set_name__...\n",
      "checking...\n",
      "<class '__main__.Child'>\n",
      "internal_name: _p\n",
      "checking...\n",
      "<class '__main__.ChildBad'>\n",
      "The validation worked\n"
     ]
    }
   ],
   "source": [
    "class Parent:\n",
    "    def __init_subclass__(cls):\n",
    "        super().__init_subclass__()\n",
    "        # check presence of attribute\n",
    "        print(\"checking...\")\n",
    "        print(cls)\n",
    "        if not hasattr(cls, \"attr\"):\n",
    "            raise AttributeError(f\"Attribute attr not existing\")\n",
    "            \n",
    "    def __set_name__(self, owner, name):\n",
    "        \"\"\"Called on class creation for each descriptor \n",
    "        when its containing class is defined, not at\n",
    "        instance creation!\"\"\"\n",
    "        print(\"Inside __set_name__...\")\n",
    "        self.name = name  # name of the class instance\n",
    "        self.internal_name = '_' + name\n",
    "\n",
    "\n",
    "class ChildOK(Parent):\n",
    "    attr = 0  # required to pass validation\n",
    "    def __init__(self, attr):\n",
    "        self.attr = attr\n",
    "\n",
    "\n",
    "class Child(Parent):\n",
    "    attr = 1\n",
    "    p = Parent()  # here __set_name__ is called\n",
    "\n",
    "\n",
    "c = Child()\n",
    "print(f\"internal_name: {c.p.internal_name}\")\n",
    "\n",
    "try:\n",
    "    class ChildBad(Parent):\n",
    "        ttr2 = 1\n",
    "\n",
    "except AttributeError:\n",
    "    print(\"The validation worked\")"
   ]
  },
  {
   "cell_type": "markdown",
   "metadata": {},
   "source": [
    "## Use class decorators to decorate all the methods of a class\n",
    "\n",
    "A class decorator is a simple function that receives a class instance as a parameter and returns either a new class or a modified version of the original class."
   ]
  },
  {
   "cell_type": "code",
   "execution_count": 23,
   "metadata": {},
   "outputs": [
    {
     "name": "stdout",
     "output_type": "stream",
     "text": [
      "test 1:\n",
      "__new__((<class 'TraceDict'>, [('hi', 1)]), {}) -> {}\n",
      "__init__(({'hi': 1}, [('hi', 1)]), {}) -> None\n",
      "test 2:\n",
      "__getattribute__(({'hi': 1}, '_test'), {}) -> <bound method TraceDict._test of {'hi': 1}>\n"
     ]
    },
    {
     "data": {
      "text/plain": [
       "3"
      ]
     },
     "execution_count": 23,
     "metadata": {},
     "output_type": "execute_result"
    }
   ],
   "source": [
    "\n",
    "from functools import wraps\n",
    "\n",
    "def trace_func(func):\n",
    "    @wraps(func)\n",
    "    def wrapper(*args, **kwargs):\n",
    "        result = func(*args, **kwargs)\n",
    "        print(f'{func.__name__}({args!r}, {kwargs!r}) -> '\n",
    "              f'{result!r}')\n",
    "        return result\n",
    "    return wrapper\n",
    "\n",
    "def generator(klass):\n",
    "    for i, item in enumerate(dir(klass)):\n",
    "        if i<25 and item not in (\"__class__\", \"__dict__\"):\n",
    "            yield item\n",
    "\n",
    "\n",
    "def trace(klass):\n",
    "    for key in dir(klass):\n",
    "        if (key in generator(klass)) and key[0] == \"_\":\n",
    "            value = getattr(klass, key)\n",
    "            #print(key, value, type(value))\n",
    "            wrapped = trace_func(value)\n",
    "            setattr(klass, key, wrapped)\n",
    "    return klass  # the modified class\n",
    "\n",
    "@trace\n",
    "class TraceDict(dict):\n",
    "    def _test(self, a):\n",
    "        return a + 1\n",
    "\n",
    "print(\"test 1:\")\n",
    "trace_dict = TraceDict([('hi', 1)])\n",
    "print(\"test 2:\")\n",
    "trace_dict._test(2)"
   ]
  },
  {
   "cell_type": "markdown",
   "metadata": {},
   "source": [
    "## Multi-threading with Lock to prevent race conditions"
   ]
  },
  {
   "cell_type": "code",
   "execution_count": 24,
   "metadata": {},
   "outputs": [
    {
     "name": "stdout",
     "output_type": "stream",
     "text": [
      "0\n",
      "1\n",
      "2\n",
      "3\n",
      "4\n",
      "Counter should be 500000, got 500000\n"
     ]
    }
   ],
   "source": [
    "from threading import Lock, Thread\n",
    "\n",
    "class LockingCounter:\n",
    "    def __init__(self):\n",
    "        self.lock = Lock()\n",
    "        self.count = 0\n",
    "    def increment(self, offset):\n",
    "        with self.lock:  # this allows to do the following operation in one block and cannot be interrupted by other threads\n",
    "            self.count += offset\n",
    "\n",
    "how_many = 10**5  # counts per sensor\n",
    "N_SENSORS = 5  # number of sensors\n",
    "counter = LockingCounter()  # couter with lock\n",
    "threads = []  # list to put the threads\n",
    "\n",
    "def worker(sensor_index, how_many, counter):\n",
    "    for _ in range(how_many):\n",
    "        # Read from the sensor\n",
    "        counter.increment(1)\n",
    "\n",
    "\n",
    "for i in range(N_SENSORS):\n",
    "    print(i)  # i-th sensor\n",
    "    # in a thread, define what function it shall run and its args\n",
    "    thread = Thread(target=worker,\n",
    "                    args=(i, how_many, counter))\n",
    "    # append to the thread list\n",
    "    threads.append(thread)\n",
    "    # dispatch the computation\n",
    "    thread.start()  # Fan out\n",
    "\n",
    "# Now all threads are running in parallel...\n",
    "    \n",
    "# wait for all threads to have finished before moving to the next step!\n",
    "for thread in threads:\n",
    "    thread.join()  # Fan in\n",
    "\n",
    "# Now all threads are over\n",
    "\n",
    "expected = how_many * N_SENSORS\n",
    "found = counter.count\n",
    "print(f'Counter should be {expected}, got {found}')"
   ]
  },
  {
   "cell_type": "markdown",
   "metadata": {},
   "source": [
    "## `Queue` class for bounding the number of threads\n",
    "\n",
    "In general, **you still need to lock**!!\n",
    "The same logic as Redis."
   ]
  },
  {
   "cell_type": "code",
   "execution_count": 25,
   "metadata": {},
   "outputs": [
    {
     "name": "stdout",
     "output_type": "stream",
     "text": [
      "All task requests sent\n",
      "Finished 0\n",
      "Finished 1\n",
      "Finished 2\n",
      "Finished 3\n",
      "Finished 4\n",
      "Finished 5\n",
      "Finished 6\n",
      "Finished 7\n",
      "Finished 8\n",
      "Finished 9\n",
      "Finished 10\n",
      "Finished 11\n",
      "Finished 12\n",
      "Finished 13\n",
      "Finished 14\n",
      "Finished 15\n",
      "Finished 16\n",
      "Finished 17\n",
      "Finished 18\n",
      "Finished 19\n",
      "Finished 20\n",
      "Finished 21\n",
      "Finished 22\n",
      "Finished 23\n",
      "Finished 24\n",
      "Finished 25\n",
      "Finished 26\n",
      "Finished 27\n",
      "Finished 28\n",
      "Finished 29\n",
      "All work completed\n"
     ]
    }
   ],
   "source": [
    "import threading, queue\n",
    "\n",
    "q = queue.Queue()\n",
    "\n",
    "def worker():\n",
    "    while True:\n",
    "        item = q.get()\n",
    "        # here we shall put the logic to be done on a thread\n",
    "        print(f'Finished {item}')\n",
    "        q.task_done()\n",
    "\n",
    "# turn-on the worker thread\n",
    "threading.Thread(target=worker, daemon=True).start()\n",
    "\n",
    "# send thirty task requests to the worker\n",
    "for item in range(30):\n",
    "    q.put(item)  # Fan out\n",
    "print('All task requests sent\\n', end='')\n",
    "\n",
    "# block until all tasks are done\n",
    "q.join()  # Fan in\n",
    "print('All work completed')"
   ]
  },
  {
   "cell_type": "markdown",
   "metadata": {},
   "source": [
    "## Use `ThreadPoolExecutor` to do multi-threading \n",
    "...and limit the number of threads"
   ]
  },
  {
   "cell_type": "code",
   "execution_count": 26,
   "metadata": {},
   "outputs": [
    {
     "name": "stdout",
     "output_type": "stream",
     "text": [
      "3.0076470375061035\n"
     ]
    }
   ],
   "source": [
    "from concurrent.futures import ThreadPoolExecutor\n",
    "import time\n",
    "\n",
    "MAX_WORK = 8\n",
    "futures = []\n",
    "\n",
    "def fun_per_thread(param1, param2):\n",
    "    time.sleep(param1)\n",
    "    return param2\n",
    "\n",
    "tic = time.time()\n",
    "with ThreadPoolExecutor(max_workers=MAX_WORK) as executor:\n",
    "    for i in range(MAX_WORK*3):\n",
    "        future = executor.submit(fun_per_thread, 1, (15-i)*2)\n",
    "        futures.append(future)  # Fan out\n",
    "\n",
    "    # now the processes are all going in parallel up to MAX_WORK workers\n",
    "\n",
    "    for future in futures:\n",
    "        # this waits for the \n",
    "        res = future.result()  # Fan in\n",
    "        # print(res)\n",
    "toc = time.time()\n",
    "# Expectig the time to be around 3 seconds\n",
    "print(toc-tic)"
   ]
  },
  {
   "cell_type": "markdown",
   "metadata": {},
   "source": [
    "## Use `ProcessPoolExecutor` for multi CPU\n",
    "\n",
    "Actually, in each CPU a new python interpreter is spawned"
   ]
  },
  {
   "cell_type": "code",
   "execution_count": 27,
   "metadata": {},
   "outputs": [
    {
     "name": "stdout",
     "output_type": "stream",
     "text": [
      "Canot work on interactive interpreter!\n"
     ]
    },
    {
     "name": "stderr",
     "output_type": "stream",
     "text": [
      "Process SpawnProcess-1:\n",
      "Traceback (most recent call last):\n",
      "  File \"/Users/matteocaorsi/opt/anaconda3/lib/python3.9/multiprocessing/process.py\", line 315, in _bootstrap\n",
      "    self.run()\n",
      "  File \"/Users/matteocaorsi/opt/anaconda3/lib/python3.9/multiprocessing/process.py\", line 108, in run\n",
      "    self._target(*self._args, **self._kwargs)\n",
      "  File \"/Users/matteocaorsi/opt/anaconda3/lib/python3.9/concurrent/futures/process.py\", line 237, in _process_worker\n",
      "    call_item = call_queue.get(block=True)\n",
      "  File \"/Users/matteocaorsi/opt/anaconda3/lib/python3.9/multiprocessing/queues.py\", line 122, in get\n",
      "    return _ForkingPickler.loads(res)\n",
      "AttributeError: Can't get attribute 'fun_per_thread' on <module '__main__' (built-in)>\n",
      "Process SpawnProcess-2:\n",
      "Traceback (most recent call last):\n",
      "  File \"/Users/matteocaorsi/opt/anaconda3/lib/python3.9/multiprocessing/process.py\", line 315, in _bootstrap\n",
      "    self.run()\n",
      "  File \"/Users/matteocaorsi/opt/anaconda3/lib/python3.9/multiprocessing/process.py\", line 108, in run\n",
      "    self._target(*self._args, **self._kwargs)\n",
      "  File \"/Users/matteocaorsi/opt/anaconda3/lib/python3.9/concurrent/futures/process.py\", line 237, in _process_worker\n",
      "    call_item = call_queue.get(block=True)\n",
      "  File \"/Users/matteocaorsi/opt/anaconda3/lib/python3.9/multiprocessing/queues.py\", line 122, in get\n",
      "    return _ForkingPickler.loads(res)\n",
      "AttributeError: Can't get attribute 'fun_per_thread' on <module '__main__' (built-in)>\n"
     ]
    }
   ],
   "source": [
    "try:\n",
    "    from concurrent.futures import ProcessPoolExecutor\n",
    "    import time\n",
    "\n",
    "    MAX_WORK = 2\n",
    "    futures = []\n",
    "\n",
    "    def fun_per_thread(param1, param2):\n",
    "        time.sleep(param1)\n",
    "        return param2\n",
    "\n",
    "    tic = time.time()\n",
    "    with ProcessPoolExecutor(max_workers=MAX_WORK) as executor:  # run in a special context with with statement\n",
    "        for i in range(MAX_WORK*3):\n",
    "            future = executor.submit(fun_per_thread, 1, (15-i)*2)\n",
    "            futures.append(future)  # Fan out\n",
    "\n",
    "        # now the processes are all going in parallel up to MAX_WORK workers\n",
    "\n",
    "        for future in futures:\n",
    "            # this waits for the \n",
    "            res = future.result()  # Fan in\n",
    "            # print(res)\n",
    "    toc = time.time()\n",
    "    # Expectig the time to be around 3 seconds\n",
    "    print(toc-tic)\n",
    "except:\n",
    "    print(\"Canot work on interactive interpreter!\")"
   ]
  },
  {
   "cell_type": "markdown",
   "metadata": {},
   "source": [
    "## Use `with` for special contexts"
   ]
  },
  {
   "cell_type": "code",
   "execution_count": 28,
   "metadata": {},
   "outputs": [],
   "source": [
    "# this is very pythonic\n",
    "var = \"\"\n",
    "with open('effective_python.ipynb', 'r') as handle:\n",
    "    var = handle.read()\n",
    "# the file is closed automatically"
   ]
  },
  {
   "cell_type": "markdown",
   "metadata": {},
   "source": [
    "## use `Decimal` and `Fraction` when doing symbolic operations\n",
    "\n",
    "... and when precision is imporant!"
   ]
  },
  {
   "cell_type": "code",
   "execution_count": 29,
   "metadata": {},
   "outputs": [
    {
     "name": "stdout",
     "output_type": "stream",
     "text": [
      "2.92\n",
      "3.0\n",
      "1/9\n"
     ]
    }
   ],
   "source": [
    "from decimal import Decimal, ROUND_UP\n",
    "from fractions import Fraction\n",
    "\n",
    "a = Decimal(\"1.46\")\n",
    "b = 2*a\n",
    "print(b)\n",
    "bb = b.quantize(Decimal(\"0.1\"), rounding=ROUND_UP)\n",
    "print(bb)\n",
    "f = Fraction(1,3)\n",
    "print(f*f)"
   ]
  },
  {
   "cell_type": "markdown",
   "metadata": {},
   "source": [
    "## profiling in python"
   ]
  },
  {
   "cell_type": "code",
   "execution_count": 30,
   "metadata": {},
   "outputs": [
    {
     "name": "stdout",
     "output_type": "stream",
     "text": [
      "computing...\n",
      "computing...\n",
      "computing...\n",
      "         3097 function calls in 0.002 seconds\n",
      "\n",
      "   Ordered by: cumulative time\n",
      "\n",
      "   ncalls  tottime  percall  cumtime  percall filename:lineno(function)\n",
      "        1    0.000    0.000    0.002    0.002 399789443.py:9(test)\n",
      "     3000    0.001    0.000    0.001    0.000 {built-in method math.gcd}\n",
      "        3    0.000    0.000    0.000    0.000 {built-in method builtins.print}\n",
      "        6    0.000    0.000    0.000    0.000 iostream.py:500(write)\n",
      "        7    0.000    0.000    0.000    0.000 iostream.py:206(schedule)\n",
      "        7    0.000    0.000    0.000    0.000 socket.py:474(send)\n",
      "        7    0.000    0.000    0.000    0.000 threading.py:1113(is_alive)\n",
      "        6    0.000    0.000    0.000    0.000 iostream.py:437(_schedule_flush)\n",
      "        7    0.000    0.000    0.000    0.000 threading.py:1059(_wait_for_tstate_lock)\n",
      "        6    0.000    0.000    0.000    0.000 iostream.py:418(_is_master_process)\n",
      "        7    0.000    0.000    0.000    0.000 {method 'acquire' of '_thread.lock' objects}\n",
      "        7    0.000    0.000    0.000    0.000 iostream.py:96(_event_pipe)\n",
      "        7    0.000    0.000    0.000    0.000 threading.py:529(is_set)\n",
      "        6    0.000    0.000    0.000    0.000 {built-in method builtins.len}\n",
      "        6    0.000    0.000    0.000    0.000 {built-in method posix.getpid}\n",
      "        7    0.000    0.000    0.000    0.000 {method 'append' of 'collections.deque' objects}\n",
      "        6    0.000    0.000    0.000    0.000 {built-in method builtins.isinstance}\n",
      "        1    0.000    0.000    0.000    0.000 {method 'disable' of '_lsprof.Profiler' objects}\n",
      "\n",
      "\n"
     ]
    },
    {
     "data": {
      "text/plain": [
       "<pstats.Stats at 0x7f7a46e73be0>"
      ]
     },
     "execution_count": 30,
     "metadata": {},
     "output_type": "execute_result"
    }
   ],
   "source": [
    "from cProfile import Profile\n",
    "from pstats import Stats  # to do stats on the profiler\n",
    "from math import gcd\n",
    "\n",
    "test_list = [[123223521332122222222, 4139790825322222222], \n",
    "             [2322, 42343], \n",
    "             [67867, 123412323]]\n",
    "\n",
    "def test():\n",
    "    for pair in test_list:\n",
    "        print(\"computing...\")\n",
    "        for i in range(1000):\n",
    "            gcd(*pair)\n",
    "\n",
    "profiler = Profile()\n",
    "profiler.runcall(test)\n",
    "stats = Stats(profiler)\n",
    "stats.strip_dirs()\n",
    "stats.sort_stats('cumulative')\n",
    "stats.print_stats()"
   ]
  },
  {
   "cell_type": "markdown",
   "metadata": {},
   "source": [
    "## Use the bisection algorithm to look for items in lists\n",
    "\n",
    "It is very fast!"
   ]
  },
  {
   "cell_type": "code",
   "execution_count": 31,
   "metadata": {},
   "outputs": [],
   "source": [
    "\n",
    "from bisect import bisect_left\n",
    "\n",
    "data = range(10**5)\n",
    "\n",
    "index = bisect_left(data, 91234)     # Exact match\n",
    "assert index == 91234\n",
    "#Consider Searching Sorted Sequences with bisect\n",
    "index = bisect_left(data, 91234.56) # Closest match\n",
    "assert index == 91235"
   ]
  },
  {
   "cell_type": "markdown",
   "metadata": {},
   "source": [
    "## Use of garbage collector and `tracemalloc`"
   ]
  },
  {
   "cell_type": "code",
   "execution_count": 32,
   "metadata": {},
   "outputs": [
    {
     "name": "stdout",
     "output_type": "stream",
     "text": [
      "Now: 72139\n"
     ]
    }
   ],
   "source": [
    "import gc\n",
    "import tracemalloc\n",
    "\n",
    "found_objects = gc.get_objects()\n",
    "print('Now:', len(found_objects))\n",
    "\n",
    "tracemalloc.start(10)\n",
    "time1 = tracemalloc.take_snapshot()\n"
   ]
  },
  {
   "cell_type": "markdown",
   "metadata": {},
   "source": [
    "## Use of priority lists to avoid sorting\n",
    "\n",
    "The magic function is called `heappush`.\n",
    "\n",
    "In general, use **type hints**. If you want to use defined classes as types, do not forget to use\n",
    "```\n",
    "from __future__ import annotations\n",
    "```"
   ]
  },
  {
   "cell_type": "code",
   "execution_count": 33,
   "metadata": {},
   "outputs": [
    {
     "name": "stdout",
     "output_type": "stream",
     "text": [
      "[(c, 1989-11-03), (a, 1990-03-01), (b, 1990-02-02)]\n"
     ]
    }
   ],
   "source": [
    "from heapq import heappush\n",
    "from datetime import date\n",
    "from typing import Callable, List, TypeVar\n",
    "from __future__ import annotations  # to use defined classes as types!\n",
    "\n",
    "class Object:\n",
    "    def __init__(self, name: str, due_date: date) -> None:\n",
    "        self.name = name\n",
    "        self.due_date = due_date\n",
    "\n",
    "    def __lt__(self, other: Object) -> bool:  # this is to define the \"<\" operation between objects\n",
    "        return self.due_date < other.due_date\n",
    "    \n",
    "    def __repr__(self):  # to have print work\n",
    "        return f\"({self.name}, {self.due_date})\"\n",
    "    \n",
    "queue = []\n",
    "\n",
    "# adding objects to queue in order of due date directly!\n",
    "def add_to_queue(obj: Object) -> None:\n",
    "    heappush(queue, obj)\n",
    "\n",
    "for name, due_date in zip([\"a\", \"b\", \"c\"], [date(1990,3,1), \n",
    "                                            date(1990,2,2),\n",
    "                                            date(1989,11,3)]):\n",
    "    add_to_queue(Object(name, due_date))\n",
    "# indeed they are sorted by due date\n",
    "print(queue)"
   ]
  },
  {
   "cell_type": "code",
   "execution_count": 34,
   "metadata": {},
   "outputs": [
    {
     "data": {
      "text/plain": [
       "[<StatisticDiff traceback=<Traceback (<Frame filename='/Users/matteocaorsi/opt/anaconda3/lib/python3.9/site-packages/IPython/core/compilerop.py' lineno=101>,)> size=5909 (+5909) count=101 (+101)>,\n",
       " <StatisticDiff traceback=<Traceback (<Frame filename='/Users/matteocaorsi/opt/anaconda3/lib/python3.9/codeop.py' lineno=143>,)> size=5258 (+5037) count=72 (+70)>,\n",
       " <StatisticDiff traceback=<Traceback (<Frame filename='/Users/matteocaorsi/opt/anaconda3/lib/python3.9/json/decoder.py' lineno=353>,)> size=2789 (+2789) count=25 (+25)>,\n",
       " <StatisticDiff traceback=<Traceback (<Frame filename='/Users/matteocaorsi/opt/anaconda3/lib/python3.9/site-packages/IPython/core/compilerop.py' lineno=159>,)> size=2588 (+2588) count=28 (+28)>,\n",
       " <StatisticDiff traceback=<Traceback (<Frame filename='/Users/matteocaorsi/opt/anaconda3/lib/python3.9/site-packages/jupyter_client/session.py' lineno=917>,)> size=2358 (+2358) count=10 (+10)>,\n",
       " <StatisticDiff traceback=<Traceback (<Frame filename='/var/folders/y1/3h1x2nq50c72ss3204ln8w3c0000gn/T/ipykernel_99445/3573265932.py' lineno=6>,)> size=1744 (+1744) count=9 (+9)>,\n",
       " <StatisticDiff traceback=<Traceback (<Frame filename='/Users/matteocaorsi/opt/anaconda3/lib/python3.9/tokenize.py' lineno=528>,)> size=1736 (+1736) count=31 (+31)>,\n",
       " <StatisticDiff traceback=<Traceback (<Frame filename='/Users/matteocaorsi/opt/anaconda3/lib/python3.9/site-packages/zmq/utils/jsonapi.py' lineno=25>,)> size=1229 (+1229) count=8 (+8)>,\n",
       " <StatisticDiff traceback=<Traceback (<Frame filename='/Users/matteocaorsi/opt/anaconda3/lib/python3.9/site-packages/IPython/core/history.py' lineno=709>,)> size=1126 (+1126) count=2 (+2)>,\n",
       " <StatisticDiff traceback=<Traceback (<Frame filename='/Users/matteocaorsi/opt/anaconda3/lib/python3.9/site-packages/traitlets/traitlets.py' lineno=621>,)> size=1121 (+1121) count=16 (+16)>,\n",
       " <StatisticDiff traceback=<Traceback (<Frame filename='/Users/matteocaorsi/opt/anaconda3/lib/python3.9/threading.py' lineno=574>,)> size=1072 (+1072) count=2 (+2)>,\n",
       " <StatisticDiff traceback=<Traceback (<Frame filename='/var/folders/y1/3h1x2nq50c72ss3204ln8w3c0000gn/T/ipykernel_99445/3573265932.py' lineno=26>,)> size=984 (+984) count=5 (+5)>,\n",
       " <StatisticDiff traceback=<Traceback (<Frame filename='/Users/matteocaorsi/opt/anaconda3/lib/python3.9/site-packages/IPython/core/interactiveshell.py' lineno=2922>,)> size=920 (+920) count=5 (+5)>,\n",
       " <StatisticDiff traceback=<Traceback (<Frame filename='/Users/matteocaorsi/opt/anaconda3/lib/python3.9/site-packages/tornado/platform/asyncio.py' lineno=227>,)> size=912 (+912) count=14 (+14)>,\n",
       " <StatisticDiff traceback=<Traceback (<Frame filename='/Users/matteocaorsi/opt/anaconda3/lib/python3.9/site-packages/IPython/core/interactiveshell.py' lineno=3172>,)> size=784 (+784) count=3 (+3)>,\n",
       " <StatisticDiff traceback=<Traceback (<Frame filename='/Users/matteocaorsi/opt/anaconda3/lib/python3.9/site-packages/ipykernel/kernelbase.py' lineno=643>,)> size=768 (+768) count=3 (+3)>,\n",
       " <StatisticDiff traceback=<Traceback (<Frame filename='/Users/matteocaorsi/opt/anaconda3/lib/python3.9/site-packages/traitlets/traitlets.py' lineno=1245>,)> size=751 (+751) count=11 (+11)>,\n",
       " <StatisticDiff traceback=<Traceback (<Frame filename='/Users/matteocaorsi/opt/anaconda3/lib/python3.9/threading.py' lineno=247>,)> size=736 (+736) count=4 (+4)>,\n",
       " <StatisticDiff traceback=<Traceback (<Frame filename='/Users/matteocaorsi/opt/anaconda3/lib/python3.9/site-packages/ipykernel/kernelbase.py' lineno=351>,)> size=680 (+680) count=2 (+2)>,\n",
       " <StatisticDiff traceback=<Traceback (<Frame filename='/Users/matteocaorsi/opt/anaconda3/lib/python3.9/site-packages/ipykernel/kernelbase.py' lineno=446>,)> size=664 (+664) count=2 (+2)>,\n",
       " <StatisticDiff traceback=<Traceback (<Frame filename='/Users/matteocaorsi/opt/anaconda3/lib/python3.9/asyncio/events.py' lineno=80>,)> size=592 (+592) count=3 (+3)>,\n",
       " <StatisticDiff traceback=<Traceback (<Frame filename='/Users/matteocaorsi/opt/anaconda3/lib/python3.9/site-packages/zmq/sugar/socket.py' lineno=589>,)> size=560 (+560) count=2 (+2)>,\n",
       " <StatisticDiff traceback=<Traceback (<Frame filename='/Users/matteocaorsi/opt/anaconda3/lib/python3.9/site-packages/ipykernel/iostream.py' lineno=223>,)> size=536 (+536) count=7 (+7)>,\n",
       " <StatisticDiff traceback=<Traceback (<Frame filename='/Users/matteocaorsi/opt/anaconda3/lib/python3.9/tracemalloc.py' lineno=423>,)> size=512 (+512) count=3 (+3)>,\n",
       " <StatisticDiff traceback=<Traceback (<Frame filename='/Users/matteocaorsi/opt/anaconda3/lib/python3.9/site-packages/zmq/eventloop/zmqstream.py' lineno=532>,)> size=504 (+504) count=5 (+5)>,\n",
       " <StatisticDiff traceback=<Traceback (<Frame filename='/Users/matteocaorsi/opt/anaconda3/lib/python3.9/site-packages/jupyter_client/session.py' lineno=936>,)> size=496 (+496) count=1 (+1)>,\n",
       " <StatisticDiff traceback=<Traceback (<Frame filename='/Users/matteocaorsi/opt/anaconda3/lib/python3.9/site-packages/ipykernel/jsonutil.py' lineno=150>,)> size=496 (+496) count=1 (+1)>,\n",
       " <StatisticDiff traceback=<Traceback (<Frame filename='/Users/matteocaorsi/opt/anaconda3/lib/python3.9/site-packages/ipykernel/iostream.py' lineno=214>,)> size=496 (+496) count=1 (+1)>,\n",
       " <StatisticDiff traceback=<Traceback (<Frame filename='/Users/matteocaorsi/opt/anaconda3/lib/python3.9/asyncio/base_events.py' lineno=766>,)> size=480 (+480) count=5 (+5)>,\n",
       " <StatisticDiff traceback=<Traceback (<Frame filename='/Users/matteocaorsi/opt/anaconda3/lib/python3.9/tracemalloc.py' lineno=560>,)> size=472 (+472) count=2 (+2)>,\n",
       " <StatisticDiff traceback=<Traceback (<Frame filename='/Users/matteocaorsi/opt/anaconda3/lib/python3.9/site-packages/ipykernel/iostream.py' lineno=466>,)> size=472 (+472) count=1 (+1)>,\n",
       " <StatisticDiff traceback=<Traceback (<Frame filename='/Users/matteocaorsi/opt/anaconda3/lib/python3.9/site-packages/IPython/core/history.py' lineno=829>,)> size=472 (+472) count=1 (+1)>,\n",
       " <StatisticDiff traceback=<Traceback (<Frame filename='/var/folders/y1/3h1x2nq50c72ss3204ln8w3c0000gn/T/ipykernel_99445/3573265932.py' lineno=21>,)> size=448 (+448) count=2 (+2)>,\n",
       " <StatisticDiff traceback=<Traceback (<Frame filename='/var/folders/y1/3h1x2nq50c72ss3204ln8w3c0000gn/T/ipykernel_99445/3573265932.py' lineno=28>,)> size=432 (+432) count=1 (+1)>,\n",
       " <StatisticDiff traceback=<Traceback (<Frame filename='/var/folders/y1/3h1x2nq50c72ss3204ln8w3c0000gn/T/ipykernel_99445/591760561.py' lineno=1>,)> size=424 (+424) count=1 (+1)>,\n",
       " <StatisticDiff traceback=<Traceback (<Frame filename='/var/folders/y1/3h1x2nq50c72ss3204ln8w3c0000gn/T/ipykernel_99445/2849649060.py' lineno=8>,)> size=0 (-424) count=0 (-1)>,\n",
       " <StatisticDiff traceback=<Traceback (<Frame filename='/Users/matteocaorsi/opt/anaconda3/lib/python3.9/site-packages/ipykernel/iostream.py' lineno=283>,)> size=416 (+416) count=9 (+9)>,\n",
       " <StatisticDiff traceback=<Traceback (<Frame filename='/Users/matteocaorsi/opt/anaconda3/lib/python3.9/asyncio/futures.py' lineno=391>,)> size=416 (+416) count=4 (+4)>,\n",
       " <StatisticDiff traceback=<Traceback (<Frame filename='/Users/matteocaorsi/opt/anaconda3/lib/python3.9/asyncio/futures.py' lineno=413>,)> size=400 (+400) count=10 (+10)>,\n",
       " <StatisticDiff traceback=<Traceback (<Frame filename='/Users/matteocaorsi/opt/anaconda3/lib/python3.9/site-packages/IPython/core/history.py' lineno=763>,)> size=392 (+392) count=2 (+2)>,\n",
       " <StatisticDiff traceback=<Traceback (<Frame filename='/Users/matteocaorsi/opt/anaconda3/lib/python3.9/threading.py' lineno=93>,)> size=336 (+336) count=4 (+4)>,\n",
       " <StatisticDiff traceback=<Traceback (<Frame filename='/Users/matteocaorsi/opt/anaconda3/lib/python3.9/concurrent/futures/_base.py' lineno=319>,)> size=320 (+320) count=5 (+5)>,\n",
       " <StatisticDiff traceback=<Traceback (<Frame filename='/Users/matteocaorsi/opt/anaconda3/lib/python3.9/asyncio/events.py' lineno=33>,)> size=320 (+320) count=5 (+5)>,\n",
       " <StatisticDiff traceback=<Traceback (<Frame filename='/Users/matteocaorsi/opt/anaconda3/lib/python3.9/asyncio/base_events.py' lineno=424>,)> size=320 (+320) count=2 (+2)>,\n",
       " <StatisticDiff traceback=<Traceback (<Frame filename='/var/folders/y1/3h1x2nq50c72ss3204ln8w3c0000gn/T/ipykernel_99445/3573265932.py' lineno=8>,)> size=312 (+312) count=6 (+6)>,\n",
       " <StatisticDiff traceback=<Traceback (<Frame filename='/Users/matteocaorsi/opt/anaconda3/lib/python3.9/site-packages/ipykernel/iostream.py' lineno=231>,)> size=312 (+312) count=6 (+6)>,\n",
       " <StatisticDiff traceback=<Traceback (<Frame filename='/Users/matteocaorsi/opt/anaconda3/lib/python3.9/site-packages/jupyter_client/session.py' lineno=939>,)> size=296 (+296) count=1 (+1)>,\n",
       " <StatisticDiff traceback=<Traceback (<Frame filename='/Users/matteocaorsi/opt/anaconda3/lib/python3.9/site-packages/jupyter_client/session.py' lineno=583>,)> size=296 (+296) count=1 (+1)>,\n",
       " <StatisticDiff traceback=<Traceback (<Frame filename='/Users/matteocaorsi/opt/anaconda3/lib/python3.9/site-packages/jupyter_client/session.py' lineno=222>,)> size=296 (+296) count=1 (+1)>,\n",
       " <StatisticDiff traceback=<Traceback (<Frame filename='/Users/matteocaorsi/opt/anaconda3/lib/python3.9/site-packages/jupyter_client/jsonutil.py' lineno=64>,)> size=296 (+296) count=1 (+1)>,\n",
       " <StatisticDiff traceback=<Traceback (<Frame filename='/Users/matteocaorsi/opt/anaconda3/lib/python3.9/site-packages/ipykernel/iostream.py' lineno=567>,)> size=288 (+288) count=4 (+4)>,\n",
       " <StatisticDiff traceback=<Traceback (<Frame filename='/Users/matteocaorsi/opt/anaconda3/lib/python3.9/asyncio/futures.py' lineno=384>,)> size=272 (+272) count=2 (+2)>,\n",
       " <StatisticDiff traceback=<Traceback (<Frame filename='/Users/matteocaorsi/opt/anaconda3/lib/python3.9/asyncio/futures.py' lineno=378>,)> size=272 (+272) count=2 (+2)>,\n",
       " <StatisticDiff traceback=<Traceback (<Frame filename='/Users/matteocaorsi/opt/anaconda3/lib/python3.9/site-packages/ipykernel/compiler.py' lineno=54>,)> size=253 (+253) count=2 (+2)>,\n",
       " <StatisticDiff traceback=<Traceback (<Frame filename='/Users/matteocaorsi/opt/anaconda3/lib/python3.9/site-packages/zmq/sugar/socket.py' lineno=541>,)> size=240 (+240) count=4 (+4)>,\n",
       " <StatisticDiff traceback=<Traceback (<Frame filename='/Users/matteocaorsi/opt/anaconda3/lib/python3.9/site-packages/IPython/core/interactiveshell.py' lineno=3217>,)> size=238 (+238) count=2 (+2)>,\n",
       " <StatisticDiff traceback=<Traceback (<Frame filename='/Users/matteocaorsi/opt/anaconda3/lib/python3.9/site-packages/tornado/platform/asyncio.py' lineno=215>,)> size=224 (+224) count=3 (+3)>,\n",
       " <StatisticDiff traceback=<Traceback (<Frame filename='/Users/matteocaorsi/opt/anaconda3/lib/python3.9/asyncio/base_events.py' lineno=729>,)> size=224 (+224) count=2 (+2)>,\n",
       " <StatisticDiff traceback=<Traceback (<Frame filename='/Users/matteocaorsi/opt/anaconda3/lib/python3.9/site-packages/jupyter_client/session.py' lineno=855>,)> size=222 (+222) count=4 (+4)>,\n",
       " <StatisticDiff traceback=<Traceback (<Frame filename='/Users/matteocaorsi/opt/anaconda3/lib/python3.9/site-packages/IPython/core/interactiveshell.py' lineno=321>,)> size=208 (+208) count=4 (+4)>,\n",
       " <StatisticDiff traceback=<Traceback (<Frame filename='/var/folders/y1/3h1x2nq50c72ss3204ln8w3c0000gn/T/ipykernel_99445/3573265932.py' lineno=20>,)> size=200 (+200) count=2 (+2)>,\n",
       " <StatisticDiff traceback=<Traceback (<Frame filename='/var/folders/y1/3h1x2nq50c72ss3204ln8w3c0000gn/T/ipykernel_99445/3573265932.py' lineno=11>,)> size=200 (+200) count=2 (+2)>,\n",
       " <StatisticDiff traceback=<Traceback (<Frame filename='/Users/matteocaorsi/opt/anaconda3/lib/python3.9/site-packages/jupyter_client/session.py' lineno=601>,)> size=194 (+194) count=2 (+2)>,\n",
       " <StatisticDiff traceback=<Traceback (<Frame filename='/Users/matteocaorsi/opt/anaconda3/lib/python3.9/threading.py' lineno=250>,)> size=192 (+192) count=2 (+2)>,\n",
       " <StatisticDiff traceback=<Traceback (<Frame filename='/Users/matteocaorsi/opt/anaconda3/lib/python3.9/site-packages/jupyter_client/session.py' lineno=658>,)> size=192 (+192) count=2 (+2)>,\n",
       " <StatisticDiff traceback=<Traceback (<Frame filename='/Users/matteocaorsi/opt/anaconda3/lib/python3.9/site-packages/ipykernel/kernelbase.py' lineno=935>,)> size=173 (+173) count=2 (+2)>,\n",
       " <StatisticDiff traceback=<Traceback (<Frame filename='/Users/matteocaorsi/opt/anaconda3/lib/python3.9/site-packages/IPython/core/interactiveshell.py' lineno=3358>,)> size=256 (+160) count=7 (+4)>,\n",
       " <StatisticDiff traceback=<Traceback (<Frame filename='/Users/matteocaorsi/opt/anaconda3/lib/python3.9/threading.py' lineno=305>,)> size=160 (+160) count=2 (+2)>,\n",
       " <StatisticDiff traceback=<Traceback (<Frame filename='/Users/matteocaorsi/opt/anaconda3/lib/python3.9/site-packages/tornado/queues.py' lineno=248>,)> size=160 (+160) count=1 (+1)>,\n",
       " <StatisticDiff traceback=<Traceback (<Frame filename='/Users/matteocaorsi/opt/anaconda3/lib/python3.9/site-packages/IPython/core/interactiveshell.py' lineno=296>,)> size=144 (+144) count=3 (+3)>,\n",
       " <StatisticDiff traceback=<Traceback (<Frame filename='/Users/matteocaorsi/opt/anaconda3/lib/python3.9/threading.py' lineno=243>,)> size=144 (+144) count=2 (+2)>,\n",
       " <StatisticDiff traceback=<Traceback (<Frame filename='/Users/matteocaorsi/opt/anaconda3/lib/python3.9/threading.py' lineno=239>,)> size=144 (+144) count=2 (+2)>,\n",
       " <StatisticDiff traceback=<Traceback (<Frame filename='/Users/matteocaorsi/opt/anaconda3/lib/python3.9/threading.py' lineno=234>,)> size=144 (+144) count=2 (+2)>,\n",
       " <StatisticDiff traceback=<Traceback (<Frame filename='/Users/matteocaorsi/opt/anaconda3/lib/python3.9/threading.py' lineno=233>,)> size=144 (+144) count=2 (+2)>,\n",
       " <StatisticDiff traceback=<Traceback (<Frame filename='/Users/matteocaorsi/opt/anaconda3/lib/python3.9/site-packages/IPython/core/compilerop.py' lineno=156>,)> size=144 (+144) count=2 (+2)>,\n",
       " <StatisticDiff traceback=<Traceback (<Frame filename='/var/folders/y1/3h1x2nq50c72ss3204ln8w3c0000gn/T/ipykernel_99445/3573265932.py' lineno=14>,)> size=136 (+136) count=1 (+1)>,\n",
       " <StatisticDiff traceback=<Traceback (<Frame filename='/var/folders/y1/3h1x2nq50c72ss3204ln8w3c0000gn/T/ipykernel_99445/3573265932.py' lineno=7>,)> size=136 (+136) count=1 (+1)>,\n",
       " <StatisticDiff traceback=<Traceback (<Frame filename='/Users/matteocaorsi/opt/anaconda3/lib/python3.9/site-packages/ipykernel/kernelbase.py' lineno=246>,)> size=136 (+136) count=1 (+1)>,\n",
       " <StatisticDiff traceback=<Traceback (<Frame filename='/Users/matteocaorsi/opt/anaconda3/lib/python3.9/site-packages/IPython/core/interactiveshell.py' lineno=3341>,)> size=136 (+136) count=1 (+1)>,\n",
       " <StatisticDiff traceback=<Traceback (<Frame filename='/Users/matteocaorsi/opt/anaconda3/lib/python3.9/site-packages/IPython/core/interactiveshell.py' lineno=3053>,)> size=136 (+136) count=1 (+1)>,\n",
       " <StatisticDiff traceback=<Traceback (<Frame filename='/Users/matteocaorsi/opt/anaconda3/lib/python3.9/site-packages/tornado/platform/asyncio.py' lineno=214>,)> size=128 (+128) count=2 (+2)>,\n",
       " <StatisticDiff traceback=<Traceback (<Frame filename='/Users/matteocaorsi/opt/anaconda3/lib/python3.9/site-packages/jupyter_client/jsonutil.py' lineno=62>,)> size=128 (+128) count=2 (+2)>,\n",
       " <StatisticDiff traceback=<Traceback (<Frame filename='/Users/matteocaorsi/opt/anaconda3/lib/python3.9/site-packages/ipykernel/iostream.py' lineno=448>,)> size=128 (+128) count=2 (+2)>,\n",
       " <StatisticDiff traceback=<Traceback (<Frame filename='/Users/matteocaorsi/opt/anaconda3/lib/python3.9/site-packages/IPython/core/hooks.py' lineno=113>,)> size=128 (+128) count=2 (+2)>,\n",
       " <StatisticDiff traceback=<Traceback (<Frame filename='/Users/matteocaorsi/opt/anaconda3/lib/python3.9/asyncio/futures.py' lineno=400>,)> size=128 (+128) count=2 (+2)>,\n",
       " <StatisticDiff traceback=<Traceback (<Frame filename='/Users/matteocaorsi/opt/anaconda3/lib/python3.9/asyncio/base_events.py' lineno=714>,)> size=120 (+120) count=3 (+3)>,\n",
       " <StatisticDiff traceback=<Traceback (<Frame filename='/Users/matteocaorsi/opt/anaconda3/lib/python3.9/site-packages/traitlets/traitlets.py' lineno=1242>,)> size=120 (+120) count=2 (+2)>,\n",
       " <StatisticDiff traceback=<Traceback (<Frame filename='/Users/matteocaorsi/opt/anaconda3/lib/python3.9/site-packages/ipykernel/kernelbase.py' lineno=457>,)> size=120 (+120) count=1 (+1)>,\n",
       " <StatisticDiff traceback=<Traceback (<Frame filename='/Users/matteocaorsi/opt/anaconda3/lib/python3.9/site-packages/jupyter_client/jsonutil.py' lineno=88>,)> size=116 (+116) count=2 (+2)>,\n",
       " <StatisticDiff traceback=<Traceback (<Frame filename='/Users/matteocaorsi/opt/anaconda3/lib/python3.9/tokenize.py' lineno=609>,)> size=112 (+112) count=2 (+2)>,\n",
       " <StatisticDiff traceback=<Traceback (<Frame filename='/Users/matteocaorsi/opt/anaconda3/lib/python3.9/tokenize.py' lineno=517>,)> size=112 (+112) count=2 (+2)>,\n",
       " <StatisticDiff traceback=<Traceback (<Frame filename='/Users/matteocaorsi/opt/anaconda3/lib/python3.9/tokenize.py' lineno=504>,)> size=112 (+112) count=2 (+2)>,\n",
       " <StatisticDiff traceback=<Traceback (<Frame filename='/Users/matteocaorsi/opt/anaconda3/lib/python3.9/tokenize.py' lineno=500>,)> size=112 (+112) count=2 (+2)>,\n",
       " <StatisticDiff traceback=<Traceback (<Frame filename='/Users/matteocaorsi/opt/anaconda3/lib/python3.9/site-packages/zmq/eventloop/zmqstream.py' lineno=477>,)> size=112 (+112) count=2 (+2)>,\n",
       " <StatisticDiff traceback=<Traceback (<Frame filename='/Users/matteocaorsi/opt/anaconda3/lib/python3.9/site-packages/ipykernel/ipkernel.py' lineno=353>,)> size=112 (+112) count=2 (+2)>,\n",
       " <StatisticDiff traceback=<Traceback (<Frame filename='/Users/matteocaorsi/opt/anaconda3/lib/python3.9/site-packages/IPython/core/history.py' lineno=732>,)> size=106 (+106) count=2 (+2)>,\n",
       " <StatisticDiff traceback=<Traceback (<Frame filename='/Users/matteocaorsi/opt/anaconda3/lib/python3.9/site-packages/zmq/sugar/socket.py' lineno=588>,)> size=96 (+96) count=2 (+2)>,\n",
       " <StatisticDiff traceback=<Traceback (<Frame filename='/Users/matteocaorsi/opt/anaconda3/lib/python3.9/site-packages/jupyter_client/session.py' lineno=151>,)> size=96 (+96) count=2 (+2)>,\n",
       " <StatisticDiff traceback=<Traceback (<Frame filename='/Users/matteocaorsi/opt/anaconda3/lib/python3.9/site-packages/ipykernel/zmqshell.py' lineno=533>,)> size=96 (+96) count=2 (+2)>,\n",
       " <StatisticDiff traceback=<Traceback (<Frame filename='/Users/matteocaorsi/opt/anaconda3/lib/python3.9/site-packages/ipykernel/kernelbase.py' lineno=240>,)> size=96 (+96) count=2 (+2)>,\n",
       " <StatisticDiff traceback=<Traceback (<Frame filename='/Users/matteocaorsi/opt/anaconda3/lib/python3.9/site-packages/IPython/core/interactiveshell.py' lineno=3040>,)> size=96 (+96) count=2 (+2)>,\n",
       " <StatisticDiff traceback=<Traceback (<Frame filename='/Users/matteocaorsi/opt/anaconda3/lib/python3.9/site-packages/IPython/core/interactiveshell.py' lineno=3038>,)> size=96 (+96) count=2 (+2)>,\n",
       " <StatisticDiff traceback=<Traceback (<Frame filename='/Users/matteocaorsi/opt/anaconda3/lib/python3.9/selectors.py' lineno=562>,)> size=96 (+96) count=1 (+1)>,\n",
       " <StatisticDiff traceback=<Traceback (<Frame filename='/Users/matteocaorsi/opt/anaconda3/lib/python3.9/site-packages/jupyter_client/session.py' lineno=517>,)> size=86 (+86) count=1 (+1)>,\n",
       " <StatisticDiff traceback=<Traceback (<Frame filename='/Users/matteocaorsi/opt/anaconda3/lib/python3.9/site-packages/zmq/eventloop/zmqstream.py' lineno=517>,)> size=80 (+80) count=2 (+2)>,\n",
       " <StatisticDiff traceback=<Traceback (<Frame filename='/Users/matteocaorsi/opt/anaconda3/lib/python3.9/site-packages/ipykernel/kernelbase.py' lineno=308>,)> size=80 (+80) count=2 (+2)>,\n",
       " <StatisticDiff traceback=<Traceback (<Frame filename='/Users/matteocaorsi/opt/anaconda3/lib/python3.9/site-packages/IPython/core/interactiveshell.py' lineno=3317>,)> size=72 (+72) count=3 (+3)>,\n",
       " <StatisticDiff traceback=<Traceback (<Frame filename='/Users/matteocaorsi/opt/anaconda3/lib/python3.9/concurrent/futures/_base.py' lineno=410>,)> size=64 (+64) count=2 (+2)>,\n",
       " <StatisticDiff traceback=<Traceback (<Frame filename='/Users/matteocaorsi/opt/anaconda3/lib/python3.9/threading.py' lineno=571>,)> size=64 (+64) count=1 (+1)>,\n",
       " <StatisticDiff traceback=<Traceback (<Frame filename='/Users/matteocaorsi/opt/anaconda3/lib/python3.9/threading.py' lineno=231>,)> size=64 (+64) count=1 (+1)>,\n",
       " <StatisticDiff traceback=<Traceback (<Frame filename='/Users/matteocaorsi/opt/anaconda3/lib/python3.9/site-packages/zmq/eventloop/zmqstream.py' lineno=431>,)> size=64 (+64) count=1 (+1)>,\n",
       " <StatisticDiff traceback=<Traceback (<Frame filename='/Users/matteocaorsi/opt/anaconda3/lib/python3.9/site-packages/jupyter_client/session.py' lineno=913>,)> size=64 (+64) count=1 (+1)>,\n",
       " <StatisticDiff traceback=<Traceback (<Frame filename='/Users/matteocaorsi/opt/anaconda3/lib/python3.9/site-packages/ipykernel/ipkernel.py' lineno=303>,)> size=64 (+64) count=1 (+1)>,\n",
       " <StatisticDiff traceback=<Traceback (<Frame filename='/Users/matteocaorsi/opt/anaconda3/lib/python3.9/site-packages/ipykernel/ipkernel.py' lineno=302>,)> size=64 (+64) count=1 (+1)>,\n",
       " <StatisticDiff traceback=<Traceback (<Frame filename='/Users/matteocaorsi/opt/anaconda3/lib/python3.9/site-packages/ipykernel/ipkernel.py' lineno=229>,)> size=64 (+64) count=1 (+1)>,\n",
       " <StatisticDiff traceback=<Traceback (<Frame filename='/Users/matteocaorsi/opt/anaconda3/lib/python3.9/site-packages/ipykernel/ipkernel.py' lineno=226>,)> size=64 (+64) count=1 (+1)>,\n",
       " <StatisticDiff traceback=<Traceback (<Frame filename='/Users/matteocaorsi/opt/anaconda3/lib/python3.9/site-packages/IPython/core/interactiveshell.py' lineno=3436>,)> size=64 (+64) count=1 (+1)>,\n",
       " <StatisticDiff traceback=<Traceback (<Frame filename='/Users/matteocaorsi/opt/anaconda3/lib/python3.9/site-packages/IPython/core/interactiveshell.py' lineno=3119>,)> size=64 (+64) count=1 (+1)>,\n",
       " <StatisticDiff traceback=<Traceback (<Frame filename='/Users/matteocaorsi/opt/anaconda3/lib/python3.9/site-packages/IPython/core/interactiveshell.py' lineno=3114>,)> size=64 (+64) count=1 (+1)>,\n",
       " <StatisticDiff traceback=<Traceback (<Frame filename='/var/folders/y1/3h1x2nq50c72ss3204ln8w3c0000gn/T/ipykernel_99445/3573265932.py' lineno=17>,)> size=56 (+56) count=1 (+1)>,\n",
       " <StatisticDiff traceback=<Traceback (<Frame filename='/Users/matteocaorsi/opt/anaconda3/lib/python3.9/site-packages/traitlets/traitlets.py' lineno=1238>,)> size=56 (+56) count=1 (+1)>,\n",
       " <StatisticDiff traceback=<Traceback (<Frame filename='/Users/matteocaorsi/opt/anaconda3/lib/python3.9/concurrent/futures/_base.py' lineno=323>,)> size=56 (+56) count=1 (+1)>,\n",
       " <StatisticDiff traceback=<Traceback (<Frame filename='/Users/matteocaorsi/opt/anaconda3/lib/python3.9/site-packages/zmq/sugar/attrsettr.py' lineno=40>,)> size=55 (+55) count=1 (+1)>,\n",
       " <StatisticDiff traceback=<Traceback (<Frame filename='/Users/matteocaorsi/opt/anaconda3/lib/python3.9/site-packages/ipykernel/iostream.py' lineno=124>,)> size=48 (+48) count=1 (+1)>,\n",
       " <StatisticDiff traceback=<Traceback (<Frame filename='/Users/matteocaorsi/opt/anaconda3/lib/python3.9/site-packages/dateutil/parser/_parser.py' lineno=1195>,)> size=48 (+48) count=1 (+1)>,\n",
       " <StatisticDiff traceback=<Traceback (<Frame filename='/Users/matteocaorsi/opt/anaconda3/lib/python3.9/site-packages/IPython/core/interactiveshell.py' lineno=3356>,)> size=48 (+48) count=1 (+1)>,\n",
       " <StatisticDiff traceback=<Traceback (<Frame filename='/Users/matteocaorsi/opt/anaconda3/lib/python3.9/asyncio/base_events.py' lineno=1874>,)> size=48 (+48) count=1 (+1)>,\n",
       " <StatisticDiff traceback=<Traceback (<Frame filename='/Users/matteocaorsi/opt/anaconda3/lib/python3.9/tracemalloc.py' lineno=315>,)> size=40 (+40) count=1 (+1)>,\n",
       " <StatisticDiff traceback=<Traceback (<Frame filename='/Users/matteocaorsi/opt/anaconda3/lib/python3.9/site-packages/zmq/eventloop/zmqstream.py' lineno=512>,)> size=40 (+40) count=1 (+1)>,\n",
       " <StatisticDiff traceback=<Traceback (<Frame filename='/Users/matteocaorsi/opt/anaconda3/lib/python3.9/site-packages/ipykernel/kernelbase.py' lineno=440>,)> size=40 (+40) count=1 (+1)>,\n",
       " <StatisticDiff traceback=<Traceback (<Frame filename='/var/folders/y1/3h1x2nq50c72ss3204ln8w3c0000gn/T/ipykernel_99445/3573265932.py' lineno=25>,)> size=32 (+32) count=1 (+1)>,\n",
       " <StatisticDiff traceback=<Traceback (<Frame filename='/var/folders/y1/3h1x2nq50c72ss3204ln8w3c0000gn/T/ipykernel_99445/3573265932.py' lineno=24>,)> size=32 (+32) count=1 (+1)>,\n",
       " <StatisticDiff traceback=<Traceback (<Frame filename='/var/folders/y1/3h1x2nq50c72ss3204ln8w3c0000gn/T/ipykernel_99445/3573265932.py' lineno=23>,)> size=32 (+32) count=1 (+1)>,\n",
       " <StatisticDiff traceback=<Traceback (<Frame filename='/Users/matteocaorsi/opt/anaconda3/lib/python3.9/site-packages/jupyter_client/session.py' lineno=861>,)> size=32 (+32) count=1 (+1)>,\n",
       " <StatisticDiff traceback=<Traceback (<Frame filename='/Users/matteocaorsi/opt/anaconda3/lib/python3.9/site-packages/IPython/core/interactiveshell.py' lineno=3351>,)> size=32 (+32) count=1 (+1)>,\n",
       " <StatisticDiff traceback=<Traceback (<Frame filename='/Users/matteocaorsi/opt/anaconda3/lib/python3.9/site-packages/IPython/core/history.py' lineno=720>,)> size=32 (+32) count=1 (+1)>,\n",
       " <StatisticDiff traceback=<Traceback (<Frame filename='/Users/matteocaorsi/opt/anaconda3/lib/python3.9/selectors.py' lineno=576>,)> size=32 (+32) count=1 (+1)>,\n",
       " <StatisticDiff traceback=<Traceback (<Frame filename='/Users/matteocaorsi/opt/anaconda3/lib/python3.9/site-packages/ipykernel/iostream.py' lineno=495>,)> size=28 (+28) count=1 (+1)>,\n",
       " <StatisticDiff traceback=<Traceback (<Frame filename='/Users/matteocaorsi/opt/anaconda3/lib/python3.9/site-packages/IPython/core/compilerop.py' lineno=157>,)> size=28 (+28) count=1 (+1)>,\n",
       " <StatisticDiff traceback=<Traceback (<Frame filename='/Users/matteocaorsi/opt/anaconda3/lib/python3.9/site-packages/zmq/sugar/socket.py' lineno=619>,)> size=8 (+8) count=1 (+1)>,\n",
       " <StatisticDiff traceback=<Traceback (<Frame filename='/Users/matteocaorsi/opt/anaconda3/lib/python3.9/site-packages/IPython/core/interactiveshell.py' lineno=3444>,)> size=400 (+0) count=1 (+0)>,\n",
       " <StatisticDiff traceback=<Traceback (<Frame filename='/Users/matteocaorsi/opt/anaconda3/lib/python3.9/site-packages/IPython/core/interactiveshell.py' lineno=3364>,)> size=120 (+0) count=1 (+0)>,\n",
       " <StatisticDiff traceback=<Traceback (<Frame filename='/Users/matteocaorsi/opt/anaconda3/lib/python3.9/site-packages/IPython/core/interactiveshell.py' lineno=3428>,)> size=64 (+0) count=1 (+0)>,\n",
       " <StatisticDiff traceback=<Traceback (<Frame filename='/Users/matteocaorsi/opt/anaconda3/lib/python3.9/site-packages/IPython/core/compilerop.py' lineno=178>,)> size=28 (+0) count=1 (+0)>]"
      ]
     },
     "execution_count": 34,
     "metadata": {},
     "output_type": "execute_result"
    }
   ],
   "source": [
    "time2 = tracemalloc.take_snapshot()\n",
    "time2.compare_to(time1, 'lineno')"
   ]
  },
  {
   "cell_type": "code",
   "execution_count": 35,
   "metadata": {},
   "outputs": [
    {
     "name": "stdout",
     "output_type": "stream",
     "text": [
      "Biggest offender is:\n",
      "  File \"/Users/matteocaorsi/opt/anaconda3/lib/python3.9/site-packages/ipykernel/kernelbase.py\", line 446\n",
      "    await dispatch(*args)\n",
      "  File \"/Users/matteocaorsi/opt/anaconda3/lib/python3.9/site-packages/ipykernel/kernelbase.py\", line 353\n",
      "    await result\n",
      "  File \"/Users/matteocaorsi/opt/anaconda3/lib/python3.9/site-packages/ipykernel/kernelbase.py\", line 648\n",
      "    reply_content = await reply_content\n",
      "  File \"/Users/matteocaorsi/opt/anaconda3/lib/python3.9/site-packages/ipykernel/ipkernel.py\", line 353\n",
      "    res = shell.run_cell(code, store_history=store_history, silent=silent)\n",
      "  File \"/Users/matteocaorsi/opt/anaconda3/lib/python3.9/site-packages/ipykernel/zmqshell.py\", line 533\n",
      "    return super(ZMQInteractiveShell, self).run_cell(*args, **kwargs)\n",
      "  File \"/Users/matteocaorsi/opt/anaconda3/lib/python3.9/site-packages/IPython/core/interactiveshell.py\", line 2901\n",
      "    result = self._run_cell(\n",
      "  File \"/Users/matteocaorsi/opt/anaconda3/lib/python3.9/site-packages/IPython/core/interactiveshell.py\", line 2947\n",
      "    return runner(coro)\n",
      "  File \"/Users/matteocaorsi/opt/anaconda3/lib/python3.9/site-packages/IPython/core/async_helpers.py\", line 68\n",
      "    coro.send(None)\n",
      "  File \"/Users/matteocaorsi/opt/anaconda3/lib/python3.9/site-packages/IPython/core/interactiveshell.py\", line 3143\n",
      "    code_ast = compiler.ast_parse(cell, filename=cell_name)\n",
      "  File \"/Users/matteocaorsi/opt/anaconda3/lib/python3.9/site-packages/IPython/core/compilerop.py\", line 101\n",
      "    return compile(source, filename, symbol, self.flags | PyCF_ONLY_AST, 1)\n"
     ]
    }
   ],
   "source": [
    "stats = time2.compare_to(time1, 'traceback')\n",
    "top = stats[0]\n",
    "print('Biggest offender is:')\n",
    "print('\\n'.join(top.traceback.format()))"
   ]
  },
  {
   "cell_type": "code",
   "execution_count": 36,
   "metadata": {},
   "outputs": [
    {
     "name": "stdout",
     "output_type": "stream",
     "text": [
      "And now: 73883\n"
     ]
    }
   ],
   "source": [
    "found_objects = gc.get_objects()\n",
    "print('And now:', len(found_objects))"
   ]
  },
  {
   "cell_type": "markdown",
   "metadata": {},
   "source": [
    "## Logging in python"
   ]
  },
  {
   "cell_type": "code",
   "execution_count": 37,
   "metadata": {},
   "outputs": [],
   "source": [
    "import logging\n",
    "\n",
    "# initialise\n",
    "logging.basicConfig(filename='example.log', encoding='utf-8', level=logging.DEBUG)\n",
    "\n",
    "lista = list(range(9))\n",
    "\n",
    "for i in range(10):\n",
    "    try:\n",
    "        lista[i]\n",
    "        logging.info(lista[i])\n",
    "    except IndexError:\n",
    "        logging.error(f\"The index {i} is out of bounds!\")\n",
    "\n",
    "try:\n",
    "    final = lista[i]\n",
    "except IndexError:\n",
    "    logging.critical(\"Cannot compute the final result.\")"
   ]
  },
  {
   "cell_type": "code",
   "execution_count": null,
   "metadata": {},
   "outputs": [],
   "source": []
  }
 ],
 "metadata": {
  "kernelspec": {
   "display_name": "Python 3 (ipykernel)",
   "language": "python",
   "name": "python3"
  },
  "language_info": {
   "codemirror_mode": {
    "name": "ipython",
    "version": 3
   },
   "file_extension": ".py",
   "mimetype": "text/x-python",
   "name": "python",
   "nbconvert_exporter": "python",
   "pygments_lexer": "ipython3",
   "version": "3.9.7"
  }
 },
 "nbformat": 4,
 "nbformat_minor": 4
}
